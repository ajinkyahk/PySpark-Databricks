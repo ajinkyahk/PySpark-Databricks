{
 "cells": [
  {
   "cell_type": "code",
   "execution_count": null,
   "metadata": {
    "application/vnd.databricks.v1+cell": {
     "cellMetadata": {
      "byteLimit": 2048000,
      "rowLimit": 10000
     },
     "inputWidgets": {},
     "nuid": "e7a2e5b8-aa06-4ec8-a7e2-b3a4a4a46499",
     "showTitle": false,
     "title": ""
    }
   },
   "outputs": [],
   "source": [
    "data = [('James','','Smith','London'),\n",
    "  ('Michael','Rose','','Paris'),\n",
    "  ('Robert','','Williams','Lisbon'),\n",
    "  ('Maria','Anne','Jones','Rome'),\n",
    "  ('Jen','Mary','Brown','Madrid')\n",
    "]\n",
    "\n",
    "columns = [\"firstname\",\"middlename\",\"lastname\",\"city\"]\n",
    "\n",
    "df = spark.createDataFrame(data=data, schema = columns)"
   ]
  },
  {
   "cell_type": "code",
   "execution_count": null,
   "metadata": {
    "application/vnd.databricks.v1+cell": {
     "cellMetadata": {
      "byteLimit": 2048000,
      "rowLimit": 10000
     },
     "inputWidgets": {},
     "nuid": "338efefc-2e99-48d8-ab7f-2c4afbd1a73a",
     "showTitle": false,
     "title": ""
    }
   },
   "outputs": [
    {
     "data": {
      "text/html": [
       "<style scoped>\n",
       "  .table-result-container {\n",
       "    max-height: 300px;\n",
       "    overflow: auto;\n",
       "  }\n",
       "  table, th, td {\n",
       "    border: 1px solid black;\n",
       "    border-collapse: collapse;\n",
       "  }\n",
       "  th, td {\n",
       "    padding: 5px;\n",
       "  }\n",
       "  th {\n",
       "    text-align: left;\n",
       "  }\n",
       "</style><div class='table-result-container'><table class='table-result'><thead style='background-color: white'><tr><th>firstname</th><th>middlename</th><th>lastname</th><th>city</th></tr></thead><tbody><tr><td>James</td><td></td><td>Smith</td><td>London</td></tr><tr><td>Michael</td><td>Rose</td><td></td><td>Paris</td></tr><tr><td>Robert</td><td></td><td>Williams</td><td>Lisbon</td></tr><tr><td>Maria</td><td>Anne</td><td>Jones</td><td>Rome</td></tr><tr><td>Jen</td><td>Mary</td><td>Brown</td><td>Madrid</td></tr></tbody></table></div>"
      ]
     },
     "metadata": {
      "application/vnd.databricks.v1+output": {
       "addedWidgets": {},
       "aggData": [],
       "aggError": "",
       "aggOverflow": false,
       "aggSchema": [],
       "aggSeriesLimitReached": false,
       "aggType": "",
       "arguments": {},
       "columnCustomDisplayInfos": {},
       "data": [
        [
         "James",
         "",
         "Smith",
         "London"
        ],
        [
         "Michael",
         "Rose",
         "",
         "Paris"
        ],
        [
         "Robert",
         "",
         "Williams",
         "Lisbon"
        ],
        [
         "Maria",
         "Anne",
         "Jones",
         "Rome"
        ],
        [
         "Jen",
         "Mary",
         "Brown",
         "Madrid"
        ]
       ],
       "datasetInfos": [],
       "dbfsResultPath": null,
       "isJsonSchema": true,
       "metadata": {},
       "overflow": false,
       "plotOptions": {
        "customPlotOptions": {},
        "displayType": "table",
        "pivotAggregation": null,
        "pivotColumns": null,
        "xColumns": null,
        "yColumns": null
       },
       "removedWidgets": [],
       "schema": [
        {
         "metadata": "{}",
         "name": "firstname",
         "type": "\"string\""
        },
        {
         "metadata": "{}",
         "name": "middlename",
         "type": "\"string\""
        },
        {
         "metadata": "{}",
         "name": "lastname",
         "type": "\"string\""
        },
        {
         "metadata": "{}",
         "name": "city",
         "type": "\"string\""
        }
       ],
       "type": "table"
      }
     },
     "output_type": "display_data"
    }
   ],
   "source": [
    "display(df)"
   ]
  },
  {
   "cell_type": "code",
   "execution_count": null,
   "metadata": {
    "application/vnd.databricks.v1+cell": {
     "cellMetadata": {
      "byteLimit": 2048000,
      "rowLimit": 10000
     },
     "inputWidgets": {},
     "nuid": "f6f772da-53be-4f58-b44e-8052cf1a0602",
     "showTitle": false,
     "title": ""
    }
   },
   "outputs": [],
   "source": [
    "(df.write\n",
    "  .format(\"jdbc\")\n",
    "  .option(\"url\", \"jdbc:sqlserver://server.database.windows.net:1403;database=db\")\n",
    "  .option(\"dbtable\", \"persons\")\n",
    "  .option(\"user\", \"user\")\n",
    "  .option(\"password\", \"password\")\n",
    "  .saveAsTable('persons')\n",
    ")"
   ]
  },
  {
   "cell_type": "code",
   "execution_count": null,
   "metadata": {
    "application/vnd.databricks.v1+cell": {
     "cellMetadata": {
      "byteLimit": 2048000,
      "rowLimit": 10000
     },
     "inputWidgets": {},
     "nuid": "28a37207-35b2-4c06-817a-6ce69beb7e27",
     "showTitle": false,
     "title": ""
    }
   },
   "outputs": [
    {
     "data": {
      "text/html": [
       "<style scoped>\n",
       "  .table-result-container {\n",
       "    max-height: 300px;\n",
       "    overflow: auto;\n",
       "  }\n",
       "  table, th, td {\n",
       "    border: 1px solid black;\n",
       "    border-collapse: collapse;\n",
       "  }\n",
       "  th, td {\n",
       "    padding: 5px;\n",
       "  }\n",
       "  th {\n",
       "    text-align: left;\n",
       "  }\n",
       "</style><div class='table-result-container'><table class='table-result'><thead style='background-color: white'><tr><th>firstname</th><th>middlename</th><th>lastname</th><th>city</th></tr></thead><tbody><tr><td>James</td><td></td><td>Smith</td><td>London</td></tr><tr><td>Michael</td><td>Rose</td><td></td><td>Paris</td></tr><tr><td>Robert</td><td></td><td>Williams</td><td>Lisbon</td></tr><tr><td>Maria</td><td>Anne</td><td>Jones</td><td>Rome</td></tr><tr><td>Jen</td><td>Mary</td><td>Brown</td><td>Madrid</td></tr></tbody></table></div>"
      ]
     },
     "metadata": {
      "application/vnd.databricks.v1+output": {
       "addedWidgets": {},
       "aggData": [],
       "aggError": "",
       "aggOverflow": false,
       "aggSchema": [],
       "aggSeriesLimitReached": false,
       "aggType": "",
       "arguments": {},
       "columnCustomDisplayInfos": {},
       "data": [
        [
         "James",
         "",
         "Smith",
         "London"
        ],
        [
         "Michael",
         "Rose",
         "",
         "Paris"
        ],
        [
         "Robert",
         "",
         "Williams",
         "Lisbon"
        ],
        [
         "Maria",
         "Anne",
         "Jones",
         "Rome"
        ],
        [
         "Jen",
         "Mary",
         "Brown",
         "Madrid"
        ]
       ],
       "datasetInfos": [],
       "dbfsResultPath": null,
       "isJsonSchema": true,
       "metadata": {},
       "overflow": false,
       "plotOptions": {
        "customPlotOptions": {},
        "displayType": "table",
        "pivotAggregation": null,
        "pivotColumns": null,
        "xColumns": null,
        "yColumns": null
       },
       "removedWidgets": [],
       "schema": [
        {
         "metadata": "{}",
         "name": "firstname",
         "type": "\"string\""
        },
        {
         "metadata": "{}",
         "name": "middlename",
         "type": "\"string\""
        },
        {
         "metadata": "{}",
         "name": "lastname",
         "type": "\"string\""
        },
        {
         "metadata": "{}",
         "name": "city",
         "type": "\"string\""
        }
       ],
       "type": "table"
      }
     },
     "output_type": "display_data"
    }
   ],
   "source": [
    "display(df)"
   ]
  },
  {
   "cell_type": "code",
   "execution_count": null,
   "metadata": {
    "application/vnd.databricks.v1+cell": {
     "cellMetadata": {
      "byteLimit": 2048000,
      "rowLimit": 10000
     },
     "inputWidgets": {},
     "nuid": "03067985-cd95-4d6e-9b10-c9812f37f243",
     "showTitle": false,
     "title": ""
    }
   },
   "outputs": [],
   "source": [
    "person_table = (spark.read\n",
    "  .format(\"jdbc\")\n",
    "  .option(\"url\", \"jdbc:sqlserver://server.database.windows.net:1403;database=db\")\n",
    "  .option(\"dbtable\", \"persons\")\n",
    "  .option(\"user\", \"server\")\n",
    "  .option(\"password\", \"password\")\n",
    "  .load()\n",
    ")"
   ]
  },
  {
   "cell_type": "code",
   "execution_count": null,
   "metadata": {
    "application/vnd.databricks.v1+cell": {
     "cellMetadata": {
      "byteLimit": 2048000,
      "rowLimit": 10000
     },
     "inputWidgets": {},
     "nuid": "0fd4bdd3-31e7-4117-84ad-dfd0428884a7",
     "showTitle": false,
     "title": ""
    }
   },
   "outputs": [
    {
     "name": "stdout",
     "output_type": "stream",
     "text": [
      "Out[55]: DataFrame[]"
     ]
    }
   ],
   "source": [
    "spark.sql(\"insert into {person_table} values ('Donald','D', 'Trump', 'New York')\", person_table=person_table)"
   ]
  },
  {
   "cell_type": "code",
   "execution_count": null,
   "metadata": {
    "application/vnd.databricks.v1+cell": {
     "cellMetadata": {
      "byteLimit": 2048000,
      "rowLimit": 10000
     },
     "inputWidgets": {},
     "nuid": "c3a4f067-14c0-409a-a928-f322651a3c9b",
     "showTitle": false,
     "title": ""
    }
   },
   "outputs": [
    {
     "data": {
      "text/html": [
       "<style scoped>\n",
       "  .table-result-container {\n",
       "    max-height: 300px;\n",
       "    overflow: auto;\n",
       "  }\n",
       "  table, th, td {\n",
       "    border: 1px solid black;\n",
       "    border-collapse: collapse;\n",
       "  }\n",
       "  th, td {\n",
       "    padding: 5px;\n",
       "  }\n",
       "  th {\n",
       "    text-align: left;\n",
       "  }\n",
       "</style><div class='table-result-container'><table class='table-result'><thead style='background-color: white'><tr><th>firstname</th><th>middlename</th><th>lastname</th><th>city</th></tr></thead><tbody><tr><td>Michael</td><td>Rose</td><td></td><td>Paris</td></tr><tr><td>Maria</td><td>Anne</td><td>Jones</td><td>Rome</td></tr><tr><td>James</td><td></td><td>Smith</td><td>London</td></tr><tr><td>Robert</td><td></td><td>Williams</td><td>Lisbon</td></tr><tr><td>Donald</td><td>D</td><td>Trump</td><td>New York</td></tr><tr><td>Jen</td><td>Mary</td><td>Brown</td><td>Madrid</td></tr></tbody></table></div>"
      ]
     },
     "metadata": {
      "application/vnd.databricks.v1+output": {
       "addedWidgets": {},
       "aggData": [],
       "aggError": "",
       "aggOverflow": false,
       "aggSchema": [],
       "aggSeriesLimitReached": false,
       "aggType": "",
       "arguments": {},
       "columnCustomDisplayInfos": {},
       "data": [
        [
         "Michael",
         "Rose",
         "",
         "Paris"
        ],
        [
         "Maria",
         "Anne",
         "Jones",
         "Rome"
        ],
        [
         "James",
         "",
         "Smith",
         "London"
        ],
        [
         "Robert",
         "",
         "Williams",
         "Lisbon"
        ],
        [
         "Donald",
         "D",
         "Trump",
         "New York"
        ],
        [
         "Jen",
         "Mary",
         "Brown",
         "Madrid"
        ]
       ],
       "datasetInfos": [],
       "dbfsResultPath": null,
       "isJsonSchema": true,
       "metadata": {},
       "overflow": false,
       "plotOptions": {
        "customPlotOptions": {},
        "displayType": "table",
        "pivotAggregation": null,
        "pivotColumns": null,
        "xColumns": null,
        "yColumns": null
       },
       "removedWidgets": [],
       "schema": [
        {
         "metadata": "{\"scale\":0}",
         "name": "firstname",
         "type": "\"string\""
        },
        {
         "metadata": "{\"scale\":0}",
         "name": "middlename",
         "type": "\"string\""
        },
        {
         "metadata": "{\"scale\":0}",
         "name": "lastname",
         "type": "\"string\""
        },
        {
         "metadata": "{\"scale\":0}",
         "name": "city",
         "type": "\"string\""
        }
       ],
       "type": "table"
      }
     },
     "output_type": "display_data"
    }
   ],
   "source": [
    "display(person_table)"
   ]
  },
  {
   "cell_type": "code",
   "execution_count": null,
   "metadata": {
    "application/vnd.databricks.v1+cell": {
     "cellMetadata": {
      "byteLimit": 2048000,
      "rowLimit": 10000
     },
     "inputWidgets": {},
     "nuid": "83c64ee0-d7f6-4022-a99e-7bfb7a6248fe",
     "showTitle": false,
     "title": ""
    }
   },
   "outputs": [
    {
     "name": "stdout",
     "output_type": "stream",
     "text": [
      "Out[57]: pyspark.sql.dataframe.DataFrame"
     ]
    }
   ],
   "source": [
    "type(person_table)"
   ]
  }
 ],
 "metadata": {
  "application/vnd.databricks.v1+notebook": {
   "dashboards": [],
   "language": "python",
   "notebookMetadata": {
    "mostRecentlyExecutedCommandWithImplicitDF": {
     "commandId": 1701948486436151,
     "dataframes": [
      "_sqldf"
     ]
    },
    "pythonIndentUnit": 4
   },
   "notebookName": "insert df to database sql query",
   "widgets": {}
  },
  "language_info": {
   "name": "python"
  }
 },
 "nbformat": 4,
 "nbformat_minor": 0
}
