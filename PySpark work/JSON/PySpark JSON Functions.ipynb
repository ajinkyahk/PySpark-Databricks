{
 "cells": [
  {
   "cell_type": "code",
   "execution_count": 0,
   "metadata": {
    "application/vnd.databricks.v1+cell": {
     "cellMetadata": {
      "byteLimit": 2048000,
      "rowLimit": 10000
     },
     "inputWidgets": {},
     "nuid": "0a9590ba-50d0-4153-a6fb-9730789da350",
     "showTitle": false,
     "title": ""
    }
   },
   "outputs": [
    {
     "output_type": "stream",
     "name": "stdout",
     "output_type": "stream",
     "text": [
      "+---+--------------------------------------------------------------------------+\n|id |value                                                                     |\n+---+--------------------------------------------------------------------------+\n|1  |{\"Zipcode\":704,\"ZipCodeType\":\"STANDARD\",\"City\":\"PARC PARQUE\",\"State\":\"PR\"}|\n+---+--------------------------------------------------------------------------+\n\n"
     ]
    }
   ],
   "source": [
    "jsonString=\"\"\"{\"Zipcode\":704,\"ZipCodeType\":\"STANDARD\",\"City\":\"PARC PARQUE\",\"State\":\"PR\"}\"\"\"\n",
    "df=spark.createDataFrame([(1, jsonString)],[\"id\",\"value\"])\n",
    "df.show(truncate=False)"
   ]
  },
  {
   "cell_type": "code",
   "execution_count": 0,
   "metadata": {
    "application/vnd.databricks.v1+cell": {
     "cellMetadata": {
      "byteLimit": 2048000,
      "rowLimit": 10000
     },
     "inputWidgets": {},
     "nuid": "e0936a95-9715-498e-8f26-f935dd3605d5",
     "showTitle": false,
     "title": ""
    }
   },
   "outputs": [],
   "source": [
    "from pyspark.sql.functions import from_json, json_tuple, get_json_object, to_json, schema_of_json, col, lit\n",
    "from pyspark.sql.types import StructType, MapType, StructField, StringType, IntegerType"
   ]
  },
  {
   "cell_type": "markdown",
   "metadata": {
    "application/vnd.databricks.v1+cell": {
     "cellMetadata": {
      "byteLimit": 2048000,
      "rowLimit": 10000
     },
     "inputWidgets": {},
     "nuid": "8a51f532-9e2d-4a79-8d67-c161f5441112",
     "showTitle": false,
     "title": ""
    }
   },
   "source": [
    "##1. from_json()\n",
    "\n",
    "**PySpark from_json() function is used to convert JSON string into Struct type or Map type.**"
   ]
  },
  {
   "cell_type": "code",
   "execution_count": 0,
   "metadata": {
    "application/vnd.databricks.v1+cell": {
     "cellMetadata": {
      "byteLimit": 2048000,
      "rowLimit": 10000
     },
     "inputWidgets": {},
     "nuid": "84fa79bd-b71e-4b2a-b2f2-cb128b7b1007",
     "showTitle": false,
     "title": ""
    }
   },
   "outputs": [
    {
     "output_type": "stream",
     "name": "stdout",
     "output_type": "stream",
     "text": [
      "root\n |-- id: long (nullable = true)\n |-- value: map (nullable = true)\n |    |-- key: string\n |    |-- value: string (valueContainsNull = true)\n\n"
     ]
    }
   ],
   "source": [
    "df2 = df.withColumn('value', from_json('value', MapType(StringType(), StringType())))\n",
    "\n",
    "df2.printSchema()"
   ]
  },
  {
   "cell_type": "code",
   "execution_count": 0,
   "metadata": {
    "application/vnd.databricks.v1+cell": {
     "cellMetadata": {
      "byteLimit": 2048000,
      "rowLimit": 10000
     },
     "inputWidgets": {},
     "nuid": "1f8a9908-ea53-491b-8ef7-28592c618631",
     "showTitle": false,
     "title": ""
    }
   },
   "outputs": [
    {
     "output_type": "stream",
     "name": "stdout",
     "output_type": "stream",
     "text": [
      "+---+---------------------------------------------------------------------------+\n|id |value                                                                      |\n+---+---------------------------------------------------------------------------+\n|1  |{Zipcode -> 704, ZipCodeType -> STANDARD, City -> PARC PARQUE, State -> PR}|\n+---+---------------------------------------------------------------------------+\n\n"
     ]
    }
   ],
   "source": [
    "df2.show(truncate=False)"
   ]
  },
  {
   "cell_type": "markdown",
   "metadata": {
    "application/vnd.databricks.v1+cell": {
     "cellMetadata": {
      "byteLimit": 2048000,
      "rowLimit": 10000
     },
     "inputWidgets": {},
     "nuid": "6ba588f0-076f-4de7-9e55-f1a0d3365552",
     "showTitle": false,
     "title": ""
    }
   },
   "source": [
    "##2. to_json()\n",
    "\n",
    "**to_json() function is used to convert DataFrame columns MapType or Struct type to JSON string.**"
   ]
  },
  {
   "cell_type": "code",
   "execution_count": 0,
   "metadata": {
    "application/vnd.databricks.v1+cell": {
     "cellMetadata": {
      "byteLimit": 2048000,
      "rowLimit": 10000
     },
     "inputWidgets": {},
     "nuid": "18f3eb2e-09f6-42d4-971e-4153ccff0da7",
     "showTitle": false,
     "title": ""
    }
   },
   "outputs": [
    {
     "output_type": "stream",
     "name": "stdout",
     "output_type": "stream",
     "text": [
      "root\n |-- id: long (nullable = true)\n |-- value: string (nullable = true)\n\n+---+----------------------------------------------------------------------------+\n|id |value                                                                       |\n+---+----------------------------------------------------------------------------+\n|1  |{\"Zipcode\":\"704\",\"ZipCodeType\":\"STANDARD\",\"City\":\"PARC PARQUE\",\"State\":\"PR\"}|\n+---+----------------------------------------------------------------------------+\n\n"
     ]
    }
   ],
   "source": [
    "df2 = df2.withColumn('value', to_json(col('value')))\n",
    "df2.printSchema()\n",
    "df2.show(truncate=False)"
   ]
  },
  {
   "cell_type": "markdown",
   "metadata": {
    "application/vnd.databricks.v1+cell": {
     "cellMetadata": {
      "byteLimit": 2048000,
      "rowLimit": 10000
     },
     "inputWidgets": {},
     "nuid": "9405ed85-a593-43f9-8583-b9d0b0fc8a81",
     "showTitle": false,
     "title": ""
    }
   },
   "source": [
    "# JSON to StructType"
   ]
  },
  {
   "cell_type": "code",
   "execution_count": 0,
   "metadata": {
    "application/vnd.databricks.v1+cell": {
     "cellMetadata": {
      "byteLimit": 2048000,
      "rowLimit": 10000
     },
     "inputWidgets": {},
     "nuid": "a905d071-a233-4bb8-952a-9a7a901af88a",
     "showTitle": false,
     "title": ""
    }
   },
   "outputs": [
    {
     "output_type": "stream",
     "name": "stdout",
     "output_type": "stream",
     "text": [
      "root\n |-- id: long (nullable = true)\n |-- value: struct (nullable = true)\n |    |-- Zipcode: string (nullable = true)\n |    |-- ZipCodeType: string (nullable = true)\n |    |-- City: string (nullable = true)\n |    |-- State: string (nullable = true)\n\n+---+--------------------------------+\n|id |value                           |\n+---+--------------------------------+\n|1  |{704, STANDARD, PARC PARQUE, PR}|\n+---+--------------------------------+\n\n"
     ]
    }
   ],
   "source": [
    "schema  = StructType([StructField('Zipcode', StringType()),\n",
    "                     StructField('ZipCodeType', StringType()),\n",
    "                     StructField('City', StringType()),\n",
    "                     StructField('State', StringType())])\n",
    "df2 = df.withColumn('value', from_json('value', schema=schema))\n",
    "df2.printSchema()\n",
    "df2.show(truncate=False)"
   ]
  },
  {
   "cell_type": "code",
   "execution_count": 0,
   "metadata": {
    "application/vnd.databricks.v1+cell": {
     "cellMetadata": {
      "byteLimit": 2048000,
      "rowLimit": 10000
     },
     "inputWidgets": {},
     "nuid": "12861057-4b06-4e43-ba6c-f4aa9c478b39",
     "showTitle": false,
     "title": ""
    }
   },
   "outputs": [
    {
     "output_type": "stream",
     "name": "stdout",
     "output_type": "stream",
     "text": [
      "root\n |-- id: long (nullable = true)\n |-- value: string (nullable = true)\n\n+---+----------------------------------------------------------------------------+\n|id |value                                                                       |\n+---+----------------------------------------------------------------------------+\n|1  |{\"Zipcode\":\"704\",\"ZipCodeType\":\"STANDARD\",\"City\":\"PARC PARQUE\",\"State\":\"PR\"}|\n+---+----------------------------------------------------------------------------+\n\n"
     ]
    }
   ],
   "source": [
    "df2 = df2.withColumn('value', to_json('value'))\n",
    "df2.printSchema()\n",
    "df2.show(truncate=False)"
   ]
  },
  {
   "cell_type": "markdown",
   "metadata": {
    "application/vnd.databricks.v1+cell": {
     "cellMetadata": {
      "byteLimit": 2048000,
      "rowLimit": 10000
     },
     "inputWidgets": {},
     "nuid": "9134b580-6aed-4a5d-b726-5886afbf9171",
     "showTitle": false,
     "title": ""
    }
   },
   "source": [
    "##3. json_tuple()\n",
    "**Function json_tuple() is used the query or extract the elements from JSON column and create the result as a new columns.**"
   ]
  },
  {
   "cell_type": "code",
   "execution_count": 0,
   "metadata": {
    "application/vnd.databricks.v1+cell": {
     "cellMetadata": {
      "byteLimit": 2048000,
      "rowLimit": 10000
     },
     "inputWidgets": {},
     "nuid": "dfb4cfde-dff5-4aaa-9b5e-a8de4c0d64fb",
     "showTitle": false,
     "title": ""
    }
   },
   "outputs": [
    {
     "output_type": "stream",
     "name": "stdout",
     "output_type": "stream",
     "text": [
      "+---+-------+-----------+-----------+-----+\n|id |Zipcode|ZipCodeType|City       |State|\n+---+-------+-----------+-----------+-----+\n|1  |704    |STANDARD   |PARC PARQUE|PR   |\n+---+-------+-----------+-----------+-----+\n\n"
     ]
    }
   ],
   "source": [
    "df.select('id', json_tuple('value', \"Zipcode\", \"ZipCodeType\", \"City\", \"State\")).toDF(\"id\", \"Zipcode\", \"ZipCodeType\", \"City\", \"State\").show(truncate=False)"
   ]
  },
  {
   "cell_type": "markdown",
   "metadata": {
    "application/vnd.databricks.v1+cell": {
     "cellMetadata": {
      "byteLimit": 2048000,
      "rowLimit": 10000
     },
     "inputWidgets": {},
     "nuid": "0c3c5b81-dcee-44a9-b0ae-5190d31d6c06",
     "showTitle": false,
     "title": ""
    }
   },
   "source": [
    "##4. get_json_object()\n",
    "\n",
    "**get_json_object() is used to extract the JSON string based on path from the JSON column.**"
   ]
  },
  {
   "cell_type": "code",
   "execution_count": 0,
   "metadata": {
    "application/vnd.databricks.v1+cell": {
     "cellMetadata": {
      "byteLimit": 2048000,
      "rowLimit": 10000
     },
     "inputWidgets": {},
     "nuid": "4cda3244-fed1-4d9f-afaf-7a049a02f78c",
     "showTitle": false,
     "title": ""
    }
   },
   "outputs": [
    {
     "output_type": "stream",
     "name": "stdout",
     "output_type": "stream",
     "text": [
      "+---+-----------+\n|id |city       |\n+---+-----------+\n|1  |PARC PARQUE|\n+---+-----------+\n\n"
     ]
    }
   ],
   "source": [
    "df.select('id', get_json_object('value', '$.City').alias('city')).show(truncate=False)"
   ]
  },
  {
   "cell_type": "markdown",
   "metadata": {
    "application/vnd.databricks.v1+cell": {
     "cellMetadata": {
      "byteLimit": 2048000,
      "rowLimit": 10000
     },
     "inputWidgets": {},
     "nuid": "ce6cd38b-fded-48e6-8911-6b8736e181c2",
     "showTitle": false,
     "title": ""
    }
   },
   "source": [
    "# 5. schema_of_json()\n",
    "\n",
    "**Use schema_of_json() to create schema string from JSON string column.**"
   ]
  },
  {
   "cell_type": "code",
   "execution_count": 0,
   "metadata": {
    "application/vnd.databricks.v1+cell": {
     "cellMetadata": {
      "byteLimit": 2048000,
      "rowLimit": 10000
     },
     "inputWidgets": {},
     "nuid": "10b0632b-a30d-4ec6-a45f-bfda12dbaeb9",
     "showTitle": false,
     "title": ""
    }
   },
   "outputs": [
    {
     "output_type": "stream",
     "name": "stdout",
     "output_type": "stream",
     "text": [
      "STRUCT<City: STRING, State: STRING, ZipCodeType: STRING, Zipcode: BIGINT>\n"
     ]
    }
   ],
   "source": [
    "schemaStr = spark.range(1).select(schema_of_json(lit(\"\"\"{\"Zipcode\":704,\"ZipCodeType\":\"STANDARD\",\"City\":\"PARC PARQUE\",\"State\":\"PR\"}\"\"\"))).collect()[0][0]\n",
    "\n",
    "print(schemaStr)"
   ]
  }
 ],
 "metadata": {
  "application/vnd.databricks.v1+notebook": {
   "dashboards": [],
   "language": "python",
   "notebookMetadata": {
    "pythonIndentUnit": 4
   },
   "notebookName": "PySpark JSON Functions",
   "widgets": {}
  }
 },
 "nbformat": 4,
 "nbformat_minor": 0
}
