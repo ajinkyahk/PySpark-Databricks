{
 "cells": [
  {
   "cell_type": "code",
   "execution_count": 0,
   "metadata": {
    "application/vnd.databricks.v1+cell": {
     "cellMetadata": {
      "byteLimit": 2048000,
      "rowLimit": 10000
     },
     "inputWidgets": {},
     "nuid": "cff3d0ef-b9fe-4307-b808-55248710f52c",
     "showTitle": false,
     "title": ""
    }
   },
   "outputs": [],
   "source": [
    "from pyspark.sql.functions import *"
   ]
  },
  {
   "cell_type": "code",
   "execution_count": 0,
   "metadata": {
    "application/vnd.databricks.v1+cell": {
     "cellMetadata": {
      "byteLimit": 2048000,
      "rowLimit": 10000
     },
     "inputWidgets": {},
     "nuid": "275a27ee-0765-475a-8edf-19b77bd3b5e3",
     "showTitle": false,
     "title": ""
    }
   },
   "outputs": [
    {
     "output_type": "stream",
     "name": "stdout",
     "output_type": "stream",
     "text": [
      "root\n |-- Employees: array (nullable = true)\n |    |-- element: struct (containsNull = true)\n |    |    |-- emailAddress: string (nullable = true)\n |    |    |-- employeeCode: string (nullable = true)\n |    |    |-- firstName: string (nullable = true)\n |    |    |-- jobTitleName: string (nullable = true)\n |    |    |-- lastName: string (nullable = true)\n |    |    |-- phoneNumber: string (nullable = true)\n |    |    |-- preferredFullName: string (nullable = true)\n |    |    |-- region: string (nullable = true)\n |    |    |-- userId: string (nullable = true)\n\n"
     ]
    }
   ],
   "source": [
    "df_json = spark.read.json('dbfs:/FileStore/employees.json', multiLine=True)\n",
    "df_json.printSchema()"
   ]
  },
  {
   "cell_type": "code",
   "execution_count": 0,
   "metadata": {
    "application/vnd.databricks.v1+cell": {
     "cellMetadata": {
      "byteLimit": 2048000,
      "rowLimit": 10000
     },
     "inputWidgets": {},
     "nuid": "bf460a9e-b925-4cff-8adc-89e890acd0c6",
     "showTitle": false,
     "title": ""
    }
   },
   "outputs": [
    {
     "output_type": "stream",
     "name": "stdout",
     "output_type": "stream",
     "text": [
      "root\n |-- value: struct (nullable = true)\n |    |-- emailAddress: string (nullable = true)\n |    |-- employeeCode: string (nullable = true)\n |    |-- firstName: string (nullable = true)\n |    |-- jobTitleName: string (nullable = true)\n |    |-- lastName: string (nullable = true)\n |    |-- phoneNumber: string (nullable = true)\n |    |-- preferredFullName: string (nullable = true)\n |    |-- region: string (nullable = true)\n |    |-- userId: string (nullable = true)\n\n"
     ]
    }
   ],
   "source": [
    "df = df_json.select(explode('Employees').alias('value'))\n",
    "df.printSchema()"
   ]
  },
  {
   "cell_type": "code",
   "execution_count": 0,
   "metadata": {
    "application/vnd.databricks.v1+cell": {
     "cellMetadata": {
      "byteLimit": 2048000,
      "rowLimit": 10000
     },
     "inputWidgets": {},
     "nuid": "930bcbc3-c1f8-43ba-8a2b-9eeffacb09d2",
     "showTitle": false,
     "title": ""
    }
   },
   "outputs": [
    {
     "output_type": "display_data",
     "data": {
      "text/html": [
       "<style scoped>\n",
       "  .table-result-container {\n",
       "    max-height: 300px;\n",
       "    overflow: auto;\n",
       "  }\n",
       "  table, th, td {\n",
       "    border: 1px solid black;\n",
       "    border-collapse: collapse;\n",
       "  }\n",
       "  th, td {\n",
       "    padding: 5px;\n",
       "  }\n",
       "  th {\n",
       "    text-align: left;\n",
       "  }\n",
       "</style><div class='table-result-container'><table class='table-result'><thead style='background-color: white'><tr><th>value</th></tr></thead><tbody><tr><td>List(romin.k.irani@gmail.com, E1, Romin, Developer, Irani, 408-1234567, Romin Irani, CA, rirani)</td></tr><tr><td>List(neilrirani@gmail.com, E2, Neil, Developer, Irani, 408-1111111, Neil Irani, CA, nirani)</td></tr><tr><td>List(tomhanks@gmail.com, E3, Tom, Program Directory, Hanks, 408-2222222, Tom Hanks, CA, thanks)</td></tr></tbody></table></div>"
      ]
     },
     "metadata": {
      "application/vnd.databricks.v1+output": {
       "addedWidgets": {},
       "aggData": [],
       "aggError": "",
       "aggOverflow": false,
       "aggSchema": [],
       "aggSeriesLimitReached": false,
       "aggType": "",
       "arguments": {},
       "columnCustomDisplayInfos": {},
       "data": [
        [
         [
          "romin.k.irani@gmail.com",
          "E1",
          "Romin",
          "Developer",
          "Irani",
          "408-1234567",
          "Romin Irani",
          "CA",
          "rirani"
         ]
        ],
        [
         [
          "neilrirani@gmail.com",
          "E2",
          "Neil",
          "Developer",
          "Irani",
          "408-1111111",
          "Neil Irani",
          "CA",
          "nirani"
         ]
        ],
        [
         [
          "tomhanks@gmail.com",
          "E3",
          "Tom",
          "Program Directory",
          "Hanks",
          "408-2222222",
          "Tom Hanks",
          "CA",
          "thanks"
         ]
        ]
       ],
       "datasetInfos": [],
       "dbfsResultPath": null,
       "isJsonSchema": true,
       "metadata": {},
       "overflow": false,
       "plotOptions": {
        "customPlotOptions": {},
        "displayType": "table",
        "pivotAggregation": null,
        "pivotColumns": null,
        "xColumns": null,
        "yColumns": null
       },
       "removedWidgets": [],
       "schema": [
        {
         "metadata": "{}",
         "name": "value",
         "type": "{\"type\":\"struct\",\"fields\":[{\"name\":\"emailAddress\",\"type\":\"string\",\"nullable\":true,\"metadata\":{}},{\"name\":\"employeeCode\",\"type\":\"string\",\"nullable\":true,\"metadata\":{}},{\"name\":\"firstName\",\"type\":\"string\",\"nullable\":true,\"metadata\":{}},{\"name\":\"jobTitleName\",\"type\":\"string\",\"nullable\":true,\"metadata\":{}},{\"name\":\"lastName\",\"type\":\"string\",\"nullable\":true,\"metadata\":{}},{\"name\":\"phoneNumber\",\"type\":\"string\",\"nullable\":true,\"metadata\":{}},{\"name\":\"preferredFullName\",\"type\":\"string\",\"nullable\":true,\"metadata\":{}},{\"name\":\"region\",\"type\":\"string\",\"nullable\":true,\"metadata\":{}},{\"name\":\"userId\",\"type\":\"string\",\"nullable\":true,\"metadata\":{}}]}"
        }
       ],
       "type": "table"
      }
     },
     "output_type": "display_data"
    }
   ],
   "source": [
    "display(df)"
   ]
  },
  {
   "cell_type": "code",
   "execution_count": 0,
   "metadata": {
    "application/vnd.databricks.v1+cell": {
     "cellMetadata": {
      "byteLimit": 2048000,
      "rowLimit": 10000
     },
     "inputWidgets": {},
     "nuid": "36fc1301-71a3-4c13-9c31-7f1da1d6489c",
     "showTitle": false,
     "title": ""
    }
   },
   "outputs": [
    {
     "output_type": "display_data",
     "data": {
      "text/html": [
       "<style scoped>\n",
       "  .table-result-container {\n",
       "    max-height: 300px;\n",
       "    overflow: auto;\n",
       "  }\n",
       "  table, th, td {\n",
       "    border: 1px solid black;\n",
       "    border-collapse: collapse;\n",
       "  }\n",
       "  th, td {\n",
       "    padding: 5px;\n",
       "  }\n",
       "  th {\n",
       "    text-align: left;\n",
       "  }\n",
       "</style><div class='table-result-container'><table class='table-result'><thead style='background-color: white'><tr><th>value</th></tr></thead><tbody><tr><td>{\"emailAddress\":\"romin.k.irani@gmail.com\",\"employeeCode\":\"E1\",\"firstName\":\"Romin\",\"jobTitleName\":\"Developer\",\"lastName\":\"Irani\",\"phoneNumber\":\"408-1234567\",\"preferredFullName\":\"Romin Irani\",\"region\":\"CA\",\"userId\":\"rirani\"}</td></tr><tr><td>{\"emailAddress\":\"neilrirani@gmail.com\",\"employeeCode\":\"E2\",\"firstName\":\"Neil\",\"jobTitleName\":\"Developer\",\"lastName\":\"Irani\",\"phoneNumber\":\"408-1111111\",\"preferredFullName\":\"Neil Irani\",\"region\":\"CA\",\"userId\":\"nirani\"}</td></tr><tr><td>{\"emailAddress\":\"tomhanks@gmail.com\",\"employeeCode\":\"E3\",\"firstName\":\"Tom\",\"jobTitleName\":\"Program Directory\",\"lastName\":\"Hanks\",\"phoneNumber\":\"408-2222222\",\"preferredFullName\":\"Tom Hanks\",\"region\":\"CA\",\"userId\":\"thanks\"}</td></tr></tbody></table></div>"
      ]
     },
     "metadata": {
      "application/vnd.databricks.v1+output": {
       "addedWidgets": {},
       "aggData": [],
       "aggError": "",
       "aggOverflow": false,
       "aggSchema": [],
       "aggSeriesLimitReached": false,
       "aggType": "",
       "arguments": {},
       "columnCustomDisplayInfos": {},
       "data": [
        [
         "{\"emailAddress\":\"romin.k.irani@gmail.com\",\"employeeCode\":\"E1\",\"firstName\":\"Romin\",\"jobTitleName\":\"Developer\",\"lastName\":\"Irani\",\"phoneNumber\":\"408-1234567\",\"preferredFullName\":\"Romin Irani\",\"region\":\"CA\",\"userId\":\"rirani\"}"
        ],
        [
         "{\"emailAddress\":\"neilrirani@gmail.com\",\"employeeCode\":\"E2\",\"firstName\":\"Neil\",\"jobTitleName\":\"Developer\",\"lastName\":\"Irani\",\"phoneNumber\":\"408-1111111\",\"preferredFullName\":\"Neil Irani\",\"region\":\"CA\",\"userId\":\"nirani\"}"
        ],
        [
         "{\"emailAddress\":\"tomhanks@gmail.com\",\"employeeCode\":\"E3\",\"firstName\":\"Tom\",\"jobTitleName\":\"Program Directory\",\"lastName\":\"Hanks\",\"phoneNumber\":\"408-2222222\",\"preferredFullName\":\"Tom Hanks\",\"region\":\"CA\",\"userId\":\"thanks\"}"
        ]
       ],
       "datasetInfos": [],
       "dbfsResultPath": null,
       "isJsonSchema": true,
       "metadata": {},
       "overflow": false,
       "plotOptions": {
        "customPlotOptions": {},
        "displayType": "table",
        "pivotAggregation": null,
        "pivotColumns": null,
        "xColumns": null,
        "yColumns": null
       },
       "removedWidgets": [],
       "schema": [
        {
         "metadata": "{}",
         "name": "value",
         "type": "\"string\""
        }
       ],
       "type": "table"
      }
     },
     "output_type": "display_data"
    }
   ],
   "source": [
    "df = df.select(to_json('value').alias('value'))\n",
    "display(df)"
   ]
  },
  {
   "cell_type": "code",
   "execution_count": 0,
   "metadata": {
    "application/vnd.databricks.v1+cell": {
     "cellMetadata": {
      "byteLimit": 2048000,
      "rowLimit": 10000
     },
     "inputWidgets": {},
     "nuid": "873a4781-0959-4677-b6ae-91232e5e8945",
     "showTitle": false,
     "title": ""
    }
   },
   "outputs": [
    {
     "output_type": "stream",
     "name": "stdout",
     "output_type": "stream",
     "text": [
      "+-----------------------+------------+---------+-----------------+--------+-----------+-----------------+------+------+\n|emailAddress           |employeeCode|firstName|jobTitleName     |lastName|phoneNumber|preferredFullName|region|userId|\n+-----------------------+------------+---------+-----------------+--------+-----------+-----------------+------+------+\n|romin.k.irani@gmail.com|E1          |Romin    |Developer        |Irani   |408-1234567|Romin Irani      |CA    |rirani|\n|neilrirani@gmail.com   |E2          |Neil     |Developer        |Irani   |408-1111111|Neil Irani       |CA    |nirani|\n|tomhanks@gmail.com     |E3          |Tom      |Program Directory|Hanks   |408-2222222|Tom Hanks        |CA    |thanks|\n+-----------------------+------------+---------+-----------------+--------+-----------+-----------------+------+------+\n\n"
     ]
    }
   ],
   "source": [
    "df.select(from_json(df.value, schema_of_json(\"\"\"{\"emailAddress\":\"romin.k.irani@gmail.com\",\"employeeCode\":\"E1\",\"firstName\":\"Romin\",\"jobTitleName\":\"Developer\",\"lastName\":\"Irani\",\"phoneNumber\":\"408-1234567\",\"preferredFullName\":\"Romin Irani\",\"region\":\"CA\",\"userId\":\"rirani\"}\"\"\")).alias('json')).select('json.*').show(truncate=False)"
   ]
  }
 ],
 "metadata": {
  "application/vnd.databricks.v1+notebook": {
   "dashboards": [],
   "language": "python",
   "notebookMetadata": {
    "pythonIndentUnit": 4
   },
   "notebookName": "json flat",
   "widgets": {}
  }
 },
 "nbformat": 4,
 "nbformat_minor": 0
}
