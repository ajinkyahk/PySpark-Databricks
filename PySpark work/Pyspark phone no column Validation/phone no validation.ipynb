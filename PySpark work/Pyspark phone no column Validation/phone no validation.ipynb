{
 "cells": [
  {
   "cell_type": "code",
   "execution_count": 0,
   "metadata": {
    "application/vnd.databricks.v1+cell": {
     "cellMetadata": {
      "byteLimit": 2048000,
      "rowLimit": 10000
     },
     "inputWidgets": {},
     "nuid": "cee6988d-4d33-48d8-a1f2-7f8e01437399",
     "showTitle": false,
     "title": ""
    }
   },
   "outputs": [],
   "source": [
    "from pyspark.sql.functions import *"
   ]
  },
  {
   "cell_type": "code",
   "execution_count": 0,
   "metadata": {
    "application/vnd.databricks.v1+cell": {
     "cellMetadata": {
      "byteLimit": 2048000,
      "rowLimit": 10000
     },
     "inputWidgets": {},
     "nuid": "8e975274-f998-4df1-ad68-c001bc613abe",
     "showTitle": false,
     "title": ""
    }
   },
   "outputs": [
    {
     "output_type": "display_data",
     "data": {
      "text/html": [
       "<style scoped>\n",
       "  .table-result-container {\n",
       "    max-height: 300px;\n",
       "    overflow: auto;\n",
       "  }\n",
       "  table, th, td {\n",
       "    border: 1px solid black;\n",
       "    border-collapse: collapse;\n",
       "  }\n",
       "  th, td {\n",
       "    padding: 5px;\n",
       "  }\n",
       "  th {\n",
       "    text-align: left;\n",
       "  }\n",
       "</style><div class='table-result-container'><table class='table-result'><thead style='background-color: white'><tr><th>id</th><th>fname</th><th>lname</th><th>phone_no</th></tr></thead><tbody><tr><td>1</td><td>Marleah</td><td>Malanie</td><td>8435897743</td></tr><tr><td>2</td><td>Eadie</td><td>Joli</td><td>953998571</td></tr><tr><td>3</td><td>Gabi</td><td>Borrell</td><td>8507009056</td></tr><tr><td>4</td><td>Violet</td><td>Brittani</td><td>88542320168</td></tr><tr><td>5</td><td>Violet</td><td>Peg</td><td>8689238295</td></tr></tbody></table></div>"
      ]
     },
     "metadata": {
      "application/vnd.databricks.v1+output": {
       "addedWidgets": {},
       "aggData": [],
       "aggError": "",
       "aggOverflow": false,
       "aggSchema": [],
       "aggSeriesLimitReached": false,
       "aggType": "",
       "arguments": {},
       "columnCustomDisplayInfos": {},
       "data": [
        [
         "1",
         "Marleah",
         "Malanie",
         "8435897743"
        ],
        [
         "2",
         "Eadie",
         "Joli",
         "953998571"
        ],
        [
         "3",
         "Gabi",
         "Borrell",
         "8507009056"
        ],
        [
         "4",
         "Violet",
         "Brittani",
         "88542320168"
        ],
        [
         "5",
         "Violet",
         "Peg",
         "8689238295"
        ]
       ],
       "datasetInfos": [],
       "dbfsResultPath": null,
       "isJsonSchema": true,
       "metadata": {},
       "overflow": false,
       "plotOptions": {
        "customPlotOptions": {},
        "displayType": "table",
        "pivotAggregation": null,
        "pivotColumns": null,
        "xColumns": null,
        "yColumns": null
       },
       "removedWidgets": [],
       "schema": [
        {
         "metadata": "{}",
         "name": "id",
         "type": "\"string\""
        },
        {
         "metadata": "{}",
         "name": "fname",
         "type": "\"string\""
        },
        {
         "metadata": "{}",
         "name": "lname",
         "type": "\"string\""
        },
        {
         "metadata": "{}",
         "name": "phone_no",
         "type": "\"string\""
        }
       ],
       "type": "table"
      }
     },
     "output_type": "display_data"
    }
   ],
   "source": [
    "df = spark.read.csv('dbfs:/FileStore/cofig_demo/phoneno_sample.csv', header=True)\n",
    "display(df)"
   ]
  },
  {
   "cell_type": "code",
   "execution_count": 0,
   "metadata": {
    "application/vnd.databricks.v1+cell": {
     "cellMetadata": {
      "byteLimit": 2048000,
      "rowLimit": 10000
     },
     "inputWidgets": {},
     "nuid": "ee146f4e-dc12-4e74-930c-01515af61846",
     "showTitle": false,
     "title": ""
    }
   },
   "outputs": [
    {
     "output_type": "stream",
     "name": "stdout",
     "output_type": "stream",
     "text": [
      "+---+-------+--------+-----------+----------------+------------+\n| id|  fname|   lname|   phone_no|phone_validation|phone_length|\n+---+-------+--------+-----------+----------------+------------+\n|  1|Marleah| Malanie| 8435897743|            true|          10|\n|  2|  Eadie|    Joli|  953998571|           false|           9|\n|  3|   Gabi| Borrell| 8507009056|            true|          10|\n|  4| Violet|Brittani|88542320168|           false|          11|\n|  5| Violet|     Peg| 8689238295|            true|          10|\n+---+-------+--------+-----------+----------------+------------+\n\n"
     ]
    }
   ],
   "source": [
    "df = df.withColumn('phone_validation', when(df.phone_no.rlike('^\\d{10}$')==True, True).otherwise(False))\\\n",
    ".withColumn('phone_length', length(df.phone_no))\n",
    "df.show()"
   ]
  },
  {
   "cell_type": "code",
   "execution_count": 0,
   "metadata": {
    "application/vnd.databricks.v1+cell": {
     "cellMetadata": {
      "byteLimit": 2048000,
      "rowLimit": 10000
     },
     "inputWidgets": {},
     "nuid": "91dfce05-1b6a-4234-835b-87da0fc467d0",
     "showTitle": false,
     "title": ""
    }
   },
   "outputs": [
    {
     "output_type": "display_data",
     "data": {
      "text/html": [
       "<style scoped>\n",
       "  .table-result-container {\n",
       "    max-height: 300px;\n",
       "    overflow: auto;\n",
       "  }\n",
       "  table, th, td {\n",
       "    border: 1px solid black;\n",
       "    border-collapse: collapse;\n",
       "  }\n",
       "  th, td {\n",
       "    padding: 5px;\n",
       "  }\n",
       "  th {\n",
       "    text-align: left;\n",
       "  }\n",
       "</style><div class='table-result-container'><table class='table-result'><thead style='background-color: white'><tr><th>id</th><th>fname</th><th>lname</th><th>phone_no</th><th>phone_validation</th><th>phone_length</th></tr></thead><tbody><tr><td>2</td><td>Eadie</td><td>Joli</td><td>953998571</td><td>false</td><td>9</td></tr><tr><td>4</td><td>Violet</td><td>Brittani</td><td>88542320168</td><td>false</td><td>11</td></tr></tbody></table></div>"
      ]
     },
     "metadata": {
      "application/vnd.databricks.v1+output": {
       "addedWidgets": {},
       "aggData": [],
       "aggError": "",
       "aggOverflow": false,
       "aggSchema": [],
       "aggSeriesLimitReached": false,
       "aggType": "",
       "arguments": {},
       "columnCustomDisplayInfos": {},
       "data": [
        [
         "2",
         "Eadie",
         "Joli",
         "953998571",
         false,
         9
        ],
        [
         "4",
         "Violet",
         "Brittani",
         "88542320168",
         false,
         11
        ]
       ],
       "datasetInfos": [],
       "dbfsResultPath": null,
       "isJsonSchema": true,
       "metadata": {},
       "overflow": false,
       "plotOptions": {
        "customPlotOptions": {},
        "displayType": "table",
        "pivotAggregation": null,
        "pivotColumns": null,
        "xColumns": null,
        "yColumns": null
       },
       "removedWidgets": [],
       "schema": [
        {
         "metadata": "{}",
         "name": "id",
         "type": "\"string\""
        },
        {
         "metadata": "{}",
         "name": "fname",
         "type": "\"string\""
        },
        {
         "metadata": "{}",
         "name": "lname",
         "type": "\"string\""
        },
        {
         "metadata": "{}",
         "name": "phone_no",
         "type": "\"string\""
        },
        {
         "metadata": "{}",
         "name": "phone_validation",
         "type": "\"boolean\""
        },
        {
         "metadata": "{}",
         "name": "phone_length",
         "type": "\"integer\""
        }
       ],
       "type": "table"
      }
     },
     "output_type": "display_data"
    }
   ],
   "source": [
    "df = df.filter(df.phone_validation==False)\n",
    "display(df)"
   ]
  }
 ],
 "metadata": {
  "application/vnd.databricks.v1+notebook": {
   "dashboards": [],
   "language": "python",
   "notebookMetadata": {
    "pythonIndentUnit": 4
   },
   "notebookName": "phone no validation",
   "widgets": {}
  }
 },
 "nbformat": 4,
 "nbformat_minor": 0
}
